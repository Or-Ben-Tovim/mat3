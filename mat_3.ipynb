{
 "cells": [
  {
   "cell_type": "markdown",
   "metadata": {},
   "source": [
    "# (STRING)  קלט הפונקציה : שם קובץ\n",
    "\n",
    "#  פלט הפונקציה : קובץ ג'יסון בפורמט השאלה\n",
    "\n",
    "# שני מימושים של הפונקציה : פעם ראשונה על הקבוצה של נויה ופעם שנייה על קבוצת  וואטסאפ שלי (יום הולדת הפתעה לשקד) - בונוס"
   ]
  },
  {
   "cell_type": "code",
   "execution_count": 1,
   "metadata": {},
   "outputs": [],
   "source": [
    "def Whats_Up(x):\n",
    "    import json\n",
    "    x=x+\".txt\"\n",
    "    file=open(x,encoding='utf-8')\n",
    "    keys = [\"datetime\", \"id\", \"text\"]\n",
    "    count_Id=1\n",
    "    W_List=[dict() for x in range(0)]\n",
    "    Names_Dict=dict()\n",
    "    W_Chat=dict.fromkeys(keys)\n",
    "\n",
    "    #  מציאת כל אנשי הקשר באופן חד ערכי ומתן מספר ייחודי לכל איש קשר ויצירת המילון הראשון\n",
    "    for line in file:\n",
    "        line=line.strip()\n",
    "        check_line=line.split(\"-\")\n",
    "        check_line=check_line[1:]\n",
    "        check_line=str(check_line)\n",
    "        if(check_line.find(\":\")==-1):\n",
    "            pass\n",
    "            if(line.find(\":\")==-1 ):\n",
    "                line=line.strip()\n",
    "                Text=Text+\" \"\n",
    "                Text=Text+line\n",
    "                Text=Text.strip()\n",
    "                W_Chat[\"text\"]=Text\n",
    "                W_List[len(W_List)-1]=(W_Chat)\n",
    "                continue\n",
    "            continue\n",
    "        if(line.find(\"הוסיף/ה את\")!=-1):\n",
    "            continue\n",
    "        W_Chat=dict.fromkeys(keys)\n",
    "        line=line.strip()\n",
    "        words_Line=line.split(\":\")\n",
    "        word=words_Line[1]\n",
    "        Subject=word[5:]\n",
    "        if(Names_Dict.get(Subject,0)==0):\n",
    "            Names_Dict[Subject]=count_Id\n",
    "            count_Id=count_Id+1\n",
    "        word2=line.split(\"-\")\n",
    "        Date=word2[0]\n",
    "        Date=Date.replace(\",\",\"\")\n",
    "        Date=Date.replace(\".\",\"-\")\n",
    "        Text=line[18:]\n",
    "        Text=Text[Text.find(\":\")+2:]\n",
    "        Text=Text.strip()\n",
    "        W_Chat[\"datetime\"]=Date.strip()\n",
    "        W_Chat[\"id\"]=Names_Dict[Subject]\n",
    "        W_Chat[\"text\"]=Text\n",
    "        W_List.append(W_Chat)\n",
    "\n",
    "    # יצירת המילון השני\n",
    "    file=open(x,encoding='utf-8')\n",
    "    keys_metadata = [\"chat_name\", \"creation_date\", \"num_of_participants\",\"creator\"]\n",
    "    Dict_metadata=dict.fromkeys(keys_metadata)\n",
    "    Dict_metadata[\"num_of_participants\"]=len(Names_Dict)\n",
    "    for line in file:\n",
    "        if(line.find('נוצרה על ידי')!=-1):\n",
    "            line=line.strip()\n",
    "            creation_date=line.split(\"-\")[0]\n",
    "            creation_date=creation_date.replace(\",\",\"\")\n",
    "            creation_date=creation_date.replace(\".\",\"-\")\n",
    "            Dict_metadata[\"creation_date\"]=creation_date.strip()\n",
    "            creator=line[line.find('נוצרה על ידי')+15:len(line)-2]\n",
    "            creator=creator.rstrip()\n",
    "            Dict_metadata[\"creator\"]=creator\n",
    "            words=line.split(\":\")[1]\n",
    "            chat_name=words[words.find('\"'):words.find('נוצרה על ידי')]\n",
    "            chat_name=chat_name.strip()\n",
    "            chat_name=chat_name[1:len(chat_name)-1]\n",
    "            Dict_metadata[\"chat_name\"]=str(chat_name)\n",
    "            break\n",
    "        else:\n",
    "            continue\n",
    "    \n",
    "    # יצירת המילון האחרון\n",
    "    final_keys = [\"messages\", \"metadata\"]\n",
    "    Final_dict=dict.fromkeys(final_keys)   \n",
    "    Final_dict[\"messages\"]=W_List\n",
    "    Final_dict[\"metadata\"]=Dict_metadata\n",
    "    json_file=chat_name+\".txt\"\n",
    "\n",
    "    with open(json_file, 'w', encoding='utf8') as json_file:\n",
    "        json.dump(Final_dict, json_file, ensure_ascii=False,indent=4)\n",
    "\n",
    "# פלט ג'יסון של קבוצת הוואטסאפ - יום הולדת לנויה\n",
    "Whats_Up(\"�צאט WhatsApp עם יום הולדת בנות לנויה\")\n",
    "\n",
    "# פלט ג'יסון של קבוצה הוואטסאפ - יום הולדת לשקד הפתעה (בונוס)\n",
    "Whats_Up(\"�צ'אט WhatsApp עם יום הולדת לשקד הפתעה\")"
   ]
  },
  {
   "cell_type": "markdown",
   "metadata": {},
   "source": [
    "# בדיקת קבצי הטקסט חזרה מג'יסון"
   ]
  },
  {
   "cell_type": "code",
   "execution_count": 35,
   "metadata": {},
   "outputs": [
    {
     "name": "stdout",
     "output_type": "stream",
     "text": [
      "Noya_Birthday:  {'messages': [{'datetime': '6-4-2021 11:40', 'id': 1, 'text': '<המדיה לא נכללה>'}, {'datetime': '6-4-2021 11:58', 'id': 2, 'text': 'של ליה: ליה תגיע😍'}, {'datetime': '6-4-2021 12:09', 'id': 3, 'text': 'מזל טוב, אמה תגיע'}, {'datetime': '6-4-2021 12:09', 'id': 1, 'text': 'תודה❤️❤️'}, {'datetime': '6-4-2021 12:23', 'id': 4, 'text': 'אשמח לפרטים.  לא ראיתי את ההזמנה😊'}, {'datetime': '6-4-2021 12:30', 'id': 5, 'text': 'המון מזל טוב ♥️♥️♥️ לין תגיע בע\"ה'}, {'datetime': '6-4-2021 12:30', 'id': 1, 'text': \"יום הולדת בנות ב 28.4 בשעה 17:00- 19:00 רח' הנביאים 30 קומה שלישית דירה 12\"}, {'datetime': '6-4-2021 12:30', 'id': 1, 'text': '🥰'}, {'datetime': '6-4-2021 14:20', 'id': 6, 'text': 'מזל טוב 🎉🎉🎈🎈נטע תגיע'}, {'datetime': '6-4-2021 14:25', 'id': 7, 'text': 'מזל טוב עלמה תגיע💓'}, {'datetime': '6-4-2021 14:31', 'id': 1, 'text': '👍🏻🥰🥰'}, {'datetime': '6-4-2021 14:32', 'id': 8, 'text': 'מזל טוב🎈🎈🎈 רומי תגיע'}, {'datetime': '6-4-2021 14:33', 'id': 9, 'text': 'אוריין תגיע בשמחה מזל טוב'}, {'datetime': '6-4-2021 14:45', 'id': 1, 'text': '👍🏻🥰'}, {'datetime': '6-4-2021 14:52', 'id': 4, 'text': 'ארבל תגיע בשמחה 🎈'}, {'datetime': '6-4-2021 15:17', 'id': 10, 'text': 'נטע תגיע בשמחה'}, {'datetime': '6-4-2021 15:26', 'id': 1, 'text': '👍🏻🤗'}, {'datetime': '6-4-2021 17:14', 'id': 11, 'text': 'מזל טוב🎊🎉 רומי תגיע'}, {'datetime': '6-4-2021 17:48', 'id': 12, 'text': 'גאיה תגיע בשמחה🎂'}, {'datetime': '6-4-2021 17:59', 'id': 1, 'text': 'תודה🤗'}, {'datetime': '7-4-2021 11:56', 'id': 13, 'text': 'מיה בן שואן תגיע 😁'}, {'datetime': '7-4-2021 12:24', 'id': 1, 'text': '👍🏻🤗'}], 'metadata': {'chat_name': \"יום הולדת בנות לנוי'ה\", 'creation_date': '6-4-2021 11:39', 'num_of_participants': 13, 'creator': '+972 50-255-8663'}}\n",
      "\n",
      "Shaked_Birthday:  {'messages': [{'datetime': '4-5-2021 20:37', 'id': 1, 'text': 'היי לכולם'}, {'datetime': '4-5-2021 20:37', 'id': 2, 'text': 'היי'}, {'datetime': '4-5-2021 20:37', 'id': 1, 'text': 'הינכם מוזמנים למסיבת יום ההולדת של שקד המלכה תאשרו הגעה זה ממש חשוב'}, {'datetime': '4-5-2021 20:40', 'id': 3, 'text': 'מזל טובבבב אני אגיעע!!'}, {'datetime': '4-5-2021 20:40', 'id': 2, 'text': 'יש לי תור לקוסמטיקאית אבל אשמח לדעת באיזה יום'}, {'datetime': '4-5-2021 20:41', 'id': 4, 'text': 'מזל טוב למלכה הבלתי מעורערת !!!'}, {'datetime': '4-5-2021 20:41', 'id': 1, 'text': 'ניפגש יום חמישי הקרוב בפת'}, {'datetime': '4-5-2021 20:42', 'id': 4, 'text': 'לא מכירה את העיר. תשלחי בהמשך מיקום.'}, {'datetime': '4-5-2021 20:42', 'id': 2, 'text': 'רק נועה נשארה'}, {'datetime': '4-5-2021 20:43', 'id': 1, 'text': 'אפרסם בהמשך היום'}, {'datetime': '4-5-2021 20:43', 'id': 2, 'text': 'יש לי במבה בולי כי נגמרה השוש זה בסדר?'}, {'datetime': '4-5-2021 20:43', 'id': 3, 'text': 'חחחחחח'}, {'datetime': '4-5-2021 20:44', 'id': 1, 'text': 'הכל בחינם אין כסף. מוזמנים עם הרבה מצב רוח ועומר אדם'}, {'datetime': '4-5-2021 20:45', 'id': 3, 'text': 'בשביל עומר אדם צריך הרבה כסףף'}, {'datetime': '4-5-2021 20:47', 'id': 2, 'text': 'בטח נועה עוד פעם בבורגראנץ'}, {'datetime': '4-5-2021 20:47', 'id': 5, 'text': 'אני ביום הולדת של נויה חברים סוריייי'}, {'datetime': '4-5-2021 20:47', 'id': 3, 'text': 'יוואו שכחתי שזה היום'}, {'datetime': '4-5-2021 20:48', 'id': 2, 'text': 'טוב נקבע כבר יום אחר'}, {'datetime': '4-5-2021 20:48', 'id': 1, 'text': 'שישי קבענו ביוש'}, {'datetime': '4-5-2021 20:49', 'id': 4, 'text': 'אור תביא את רומי?'}], 'metadata': {'chat_name': 'יום הולדת לשקד הפתעה', 'creation_date': '4-5-2021 20:36', 'num_of_participants': 5, 'creator': '+972 50-885-4450'}}\n"
     ]
    }
   ],
   "source": [
    "import json\n",
    "file_Noya=open(\"יום הולדת בנות לנוי'ה.txt\",encoding='utf-8') # הכנס את שם הקובץ טקסט שנוצר במטלה\n",
    "file_Shaked=open(\"יום הולדת לשקד הפתעה.txt\",encoding='utf-8') # \n",
    "Check1=json.load(file_Noya)\n",
    "Check2=json.load(file_Shaked)\n",
    "print(\"Noya_Birthday: \", Check1)\n",
    "print()\n",
    "print(\"Shaked_Birthday: \", Check2)"
   ]
  }
 ],
 "metadata": {
  "kernelspec": {
   "display_name": "Python 3",
   "language": "python",
   "name": "python3"
  },
  "language_info": {
   "codemirror_mode": {
    "name": "ipython",
    "version": 3
   },
   "file_extension": ".py",
   "mimetype": "text/x-python",
   "name": "python",
   "nbconvert_exporter": "python",
   "pygments_lexer": "ipython3",
   "version": "3.8.5"
  }
 },
 "nbformat": 4,
 "nbformat_minor": 4
}
